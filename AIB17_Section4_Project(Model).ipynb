{
  "nbformat": 4,
  "nbformat_minor": 0,
  "metadata": {
    "colab": {
      "provenance": []
    },
    "kernelspec": {
      "name": "python3",
      "display_name": "Python 3"
    },
    "language_info": {
      "name": "python"
    }
  },
  "cells": [
    {
      "cell_type": "code",
      "source": [
        "from google.colab import drive\n",
        "drive.mount('/content/drive')"
      ],
      "metadata": {
        "id": "MPGaBEzmf5Ox",
        "colab": {
          "base_uri": "https://localhost:8080/"
        },
        "outputId": "c791fa06-3028-4693-ab68-7bd4369009d1"
      },
      "execution_count": 1,
      "outputs": [
        {
          "output_type": "stream",
          "name": "stdout",
          "text": [
            "Mounted at /content/drive\n"
          ]
        }
      ]
    },
    {
      "cell_type": "code",
      "execution_count": 2,
      "metadata": {
        "id": "bPwSDKuKbluu",
        "colab": {
          "base_uri": "https://localhost:8080/",
          "height": 813
        },
        "outputId": "76a88b17-15a1-4852-f757-4eec1534f604"
      },
      "outputs": [
        {
          "output_type": "stream",
          "name": "stderr",
          "text": [
            "<ipython-input-2-79a2c0f42675>:25: SettingWithCopyWarning: \n",
            "A value is trying to be set on a copy of a slice from a DataFrame.\n",
            "Try using .loc[row_indexer,col_indexer] = value instead\n",
            "\n",
            "See the caveats in the documentation: https://pandas.pydata.org/pandas-docs/stable/user_guide/indexing.html#returning-a-view-versus-a-copy\n",
            "  X_train[cat_cols] = ordinal_encoder.fit_transform(X_train[cat_cols])\n",
            "<ipython-input-2-79a2c0f42675>:26: SettingWithCopyWarning: \n",
            "A value is trying to be set on a copy of a slice from a DataFrame.\n",
            "Try using .loc[row_indexer,col_indexer] = value instead\n",
            "\n",
            "See the caveats in the documentation: https://pandas.pydata.org/pandas-docs/stable/user_guide/indexing.html#returning-a-view-versus-a-copy\n",
            "  X_val[cat_cols] = ordinal_encoder.transform(X_val[cat_cols])\n",
            "<ipython-input-2-79a2c0f42675>:27: SettingWithCopyWarning: \n",
            "A value is trying to be set on a copy of a slice from a DataFrame.\n",
            "Try using .loc[row_indexer,col_indexer] = value instead\n",
            "\n",
            "See the caveats in the documentation: https://pandas.pydata.org/pandas-docs/stable/user_guide/indexing.html#returning-a-view-versus-a-copy\n",
            "  X_test[cat_cols] = ordinal_encoder.transform(X_test[cat_cols])\n",
            "<ipython-input-2-79a2c0f42675>:31: SettingWithCopyWarning: \n",
            "A value is trying to be set on a copy of a slice from a DataFrame.\n",
            "Try using .loc[row_indexer,col_indexer] = value instead\n",
            "\n",
            "See the caveats in the documentation: https://pandas.pydata.org/pandas-docs/stable/user_guide/indexing.html#returning-a-view-versus-a-copy\n",
            "  X_train[num_cols] = scaler.fit_transform(X_train[num_cols])\n",
            "<ipython-input-2-79a2c0f42675>:32: SettingWithCopyWarning: \n",
            "A value is trying to be set on a copy of a slice from a DataFrame.\n",
            "Try using .loc[row_indexer,col_indexer] = value instead\n",
            "\n",
            "See the caveats in the documentation: https://pandas.pydata.org/pandas-docs/stable/user_guide/indexing.html#returning-a-view-versus-a-copy\n",
            "  X_val[num_cols] = scaler.transform(X_val[num_cols])\n",
            "<ipython-input-2-79a2c0f42675>:33: SettingWithCopyWarning: \n",
            "A value is trying to be set on a copy of a slice from a DataFrame.\n",
            "Try using .loc[row_indexer,col_indexer] = value instead\n",
            "\n",
            "See the caveats in the documentation: https://pandas.pydata.org/pandas-docs/stable/user_guide/indexing.html#returning-a-view-versus-a-copy\n",
            "  X_test[num_cols] = scaler.transform(X_test[num_cols])\n"
          ]
        },
        {
          "output_type": "execute_result",
          "data": {
            "text/plain": [
              "RandomizedSearchCV(cv=5,\n",
              "                   estimator=Pipeline(steps=[('simpleimputer', SimpleImputer()),\n",
              "                                             ('randomforestclassifier',\n",
              "                                              RandomForestClassifier(random_state=42))]),\n",
              "                   n_jobs=-1,\n",
              "                   param_distributions={'randomforestclassifier__max_depth': [1,\n",
              "                                                                              2,\n",
              "                                                                              3,\n",
              "                                                                              4,\n",
              "                                                                              5,\n",
              "                                                                              6,\n",
              "                                                                              7,\n",
              "                                                                              8,\n",
              "                                                                              9,\n",
              "                                                                              10],\n",
              "                                        'randomforestclassifier__max_features': [0.2,\n",
              "                                                                                 0.4,\n",
              "                                                                                 0.6,\n",
              "                                                                                 0.8,\n",
              "                                                                                 1.0],\n",
              "                                        'randomforestclassifier__max_samples': [0.2,\n",
              "                                                                                0.4,\n",
              "                                                                                0.6,\n",
              "                                                                                0.8,\n",
              "                                                                                1.0],\n",
              "                                        'randomforestclassifier__n_estimators': [10,\n",
              "                                                                                 20,\n",
              "                                                                                 30,\n",
              "                                                                                 40,\n",
              "                                                                                 50,\n",
              "                                                                                 60,\n",
              "                                                                                 70,\n",
              "                                                                                 80,\n",
              "                                                                                 90,\n",
              "                                                                                 100,\n",
              "                                                                                 110,\n",
              "                                                                                 120,\n",
              "                                                                                 130,\n",
              "                                                                                 140,\n",
              "                                                                                 150,\n",
              "                                                                                 160,\n",
              "                                                                                 170,\n",
              "                                                                                 180,\n",
              "                                                                                 190,\n",
              "                                                                                 200],\n",
              "                                        'simpleimputer__strategy': ['median',\n",
              "                                                                    'mean']},\n",
              "                   random_state=42)"
            ],
            "text/html": [
              "<style>#sk-container-id-1 {color: black;background-color: white;}#sk-container-id-1 pre{padding: 0;}#sk-container-id-1 div.sk-toggleable {background-color: white;}#sk-container-id-1 label.sk-toggleable__label {cursor: pointer;display: block;width: 100%;margin-bottom: 0;padding: 0.3em;box-sizing: border-box;text-align: center;}#sk-container-id-1 label.sk-toggleable__label-arrow:before {content: \"▸\";float: left;margin-right: 0.25em;color: #696969;}#sk-container-id-1 label.sk-toggleable__label-arrow:hover:before {color: black;}#sk-container-id-1 div.sk-estimator:hover label.sk-toggleable__label-arrow:before {color: black;}#sk-container-id-1 div.sk-toggleable__content {max-height: 0;max-width: 0;overflow: hidden;text-align: left;background-color: #f0f8ff;}#sk-container-id-1 div.sk-toggleable__content pre {margin: 0.2em;color: black;border-radius: 0.25em;background-color: #f0f8ff;}#sk-container-id-1 input.sk-toggleable__control:checked~div.sk-toggleable__content {max-height: 200px;max-width: 100%;overflow: auto;}#sk-container-id-1 input.sk-toggleable__control:checked~label.sk-toggleable__label-arrow:before {content: \"▾\";}#sk-container-id-1 div.sk-estimator input.sk-toggleable__control:checked~label.sk-toggleable__label {background-color: #d4ebff;}#sk-container-id-1 div.sk-label input.sk-toggleable__control:checked~label.sk-toggleable__label {background-color: #d4ebff;}#sk-container-id-1 input.sk-hidden--visually {border: 0;clip: rect(1px 1px 1px 1px);clip: rect(1px, 1px, 1px, 1px);height: 1px;margin: -1px;overflow: hidden;padding: 0;position: absolute;width: 1px;}#sk-container-id-1 div.sk-estimator {font-family: monospace;background-color: #f0f8ff;border: 1px dotted black;border-radius: 0.25em;box-sizing: border-box;margin-bottom: 0.5em;}#sk-container-id-1 div.sk-estimator:hover {background-color: #d4ebff;}#sk-container-id-1 div.sk-parallel-item::after {content: \"\";width: 100%;border-bottom: 1px solid gray;flex-grow: 1;}#sk-container-id-1 div.sk-label:hover label.sk-toggleable__label {background-color: #d4ebff;}#sk-container-id-1 div.sk-serial::before {content: \"\";position: absolute;border-left: 1px solid gray;box-sizing: border-box;top: 0;bottom: 0;left: 50%;z-index: 0;}#sk-container-id-1 div.sk-serial {display: flex;flex-direction: column;align-items: center;background-color: white;padding-right: 0.2em;padding-left: 0.2em;position: relative;}#sk-container-id-1 div.sk-item {position: relative;z-index: 1;}#sk-container-id-1 div.sk-parallel {display: flex;align-items: stretch;justify-content: center;background-color: white;position: relative;}#sk-container-id-1 div.sk-item::before, #sk-container-id-1 div.sk-parallel-item::before {content: \"\";position: absolute;border-left: 1px solid gray;box-sizing: border-box;top: 0;bottom: 0;left: 50%;z-index: -1;}#sk-container-id-1 div.sk-parallel-item {display: flex;flex-direction: column;z-index: 1;position: relative;background-color: white;}#sk-container-id-1 div.sk-parallel-item:first-child::after {align-self: flex-end;width: 50%;}#sk-container-id-1 div.sk-parallel-item:last-child::after {align-self: flex-start;width: 50%;}#sk-container-id-1 div.sk-parallel-item:only-child::after {width: 0;}#sk-container-id-1 div.sk-dashed-wrapped {border: 1px dashed gray;margin: 0 0.4em 0.5em 0.4em;box-sizing: border-box;padding-bottom: 0.4em;background-color: white;}#sk-container-id-1 div.sk-label label {font-family: monospace;font-weight: bold;display: inline-block;line-height: 1.2em;}#sk-container-id-1 div.sk-label-container {text-align: center;}#sk-container-id-1 div.sk-container {/* jupyter's `normalize.less` sets `[hidden] { display: none; }` but bootstrap.min.css set `[hidden] { display: none !important; }` so we also need the `!important` here to be able to override the default hidden behavior on the sphinx rendered scikit-learn.org. See: https://github.com/scikit-learn/scikit-learn/issues/21755 */display: inline-block !important;position: relative;}#sk-container-id-1 div.sk-text-repr-fallback {display: none;}</style><div id=\"sk-container-id-1\" class=\"sk-top-container\"><div class=\"sk-text-repr-fallback\"><pre>RandomizedSearchCV(cv=5,\n",
              "                   estimator=Pipeline(steps=[(&#x27;simpleimputer&#x27;, SimpleImputer()),\n",
              "                                             (&#x27;randomforestclassifier&#x27;,\n",
              "                                              RandomForestClassifier(random_state=42))]),\n",
              "                   n_jobs=-1,\n",
              "                   param_distributions={&#x27;randomforestclassifier__max_depth&#x27;: [1,\n",
              "                                                                              2,\n",
              "                                                                              3,\n",
              "                                                                              4,\n",
              "                                                                              5,\n",
              "                                                                              6,\n",
              "                                                                              7,\n",
              "                                                                              8,\n",
              "                                                                              9,\n",
              "                                                                              10],\n",
              "                                        &#x27;randomforestclassifier__max_features&#x27;: [0.2,\n",
              "                                                                                 0.4,\n",
              "                                                                                 0.6,\n",
              "                                                                                 0.8,\n",
              "                                                                                 1.0],\n",
              "                                        &#x27;randomforestclassifier__max_samples&#x27;: [0.2,\n",
              "                                                                                0.4,\n",
              "                                                                                0.6,\n",
              "                                                                                0.8,\n",
              "                                                                                1.0],\n",
              "                                        &#x27;randomforestclassifier__n_estimators&#x27;: [10,\n",
              "                                                                                 20,\n",
              "                                                                                 30,\n",
              "                                                                                 40,\n",
              "                                                                                 50,\n",
              "                                                                                 60,\n",
              "                                                                                 70,\n",
              "                                                                                 80,\n",
              "                                                                                 90,\n",
              "                                                                                 100,\n",
              "                                                                                 110,\n",
              "                                                                                 120,\n",
              "                                                                                 130,\n",
              "                                                                                 140,\n",
              "                                                                                 150,\n",
              "                                                                                 160,\n",
              "                                                                                 170,\n",
              "                                                                                 180,\n",
              "                                                                                 190,\n",
              "                                                                                 200],\n",
              "                                        &#x27;simpleimputer__strategy&#x27;: [&#x27;median&#x27;,\n",
              "                                                                    &#x27;mean&#x27;]},\n",
              "                   random_state=42)</pre><b>In a Jupyter environment, please rerun this cell to show the HTML representation or trust the notebook. <br />On GitHub, the HTML representation is unable to render, please try loading this page with nbviewer.org.</b></div><div class=\"sk-container\" hidden><div class=\"sk-item sk-dashed-wrapped\"><div class=\"sk-label-container\"><div class=\"sk-label sk-toggleable\"><input class=\"sk-toggleable__control sk-hidden--visually\" id=\"sk-estimator-id-1\" type=\"checkbox\" ><label for=\"sk-estimator-id-1\" class=\"sk-toggleable__label sk-toggleable__label-arrow\">RandomizedSearchCV</label><div class=\"sk-toggleable__content\"><pre>RandomizedSearchCV(cv=5,\n",
              "                   estimator=Pipeline(steps=[(&#x27;simpleimputer&#x27;, SimpleImputer()),\n",
              "                                             (&#x27;randomforestclassifier&#x27;,\n",
              "                                              RandomForestClassifier(random_state=42))]),\n",
              "                   n_jobs=-1,\n",
              "                   param_distributions={&#x27;randomforestclassifier__max_depth&#x27;: [1,\n",
              "                                                                              2,\n",
              "                                                                              3,\n",
              "                                                                              4,\n",
              "                                                                              5,\n",
              "                                                                              6,\n",
              "                                                                              7,\n",
              "                                                                              8,\n",
              "                                                                              9,\n",
              "                                                                              10],\n",
              "                                        &#x27;randomforestclassifier__max_features&#x27;: [0.2,\n",
              "                                                                                 0.4,\n",
              "                                                                                 0.6,\n",
              "                                                                                 0.8,\n",
              "                                                                                 1.0],\n",
              "                                        &#x27;randomforestclassifier__max_samples&#x27;: [0.2,\n",
              "                                                                                0.4,\n",
              "                                                                                0.6,\n",
              "                                                                                0.8,\n",
              "                                                                                1.0],\n",
              "                                        &#x27;randomforestclassifier__n_estimators&#x27;: [10,\n",
              "                                                                                 20,\n",
              "                                                                                 30,\n",
              "                                                                                 40,\n",
              "                                                                                 50,\n",
              "                                                                                 60,\n",
              "                                                                                 70,\n",
              "                                                                                 80,\n",
              "                                                                                 90,\n",
              "                                                                                 100,\n",
              "                                                                                 110,\n",
              "                                                                                 120,\n",
              "                                                                                 130,\n",
              "                                                                                 140,\n",
              "                                                                                 150,\n",
              "                                                                                 160,\n",
              "                                                                                 170,\n",
              "                                                                                 180,\n",
              "                                                                                 190,\n",
              "                                                                                 200],\n",
              "                                        &#x27;simpleimputer__strategy&#x27;: [&#x27;median&#x27;,\n",
              "                                                                    &#x27;mean&#x27;]},\n",
              "                   random_state=42)</pre></div></div></div><div class=\"sk-parallel\"><div class=\"sk-parallel-item\"><div class=\"sk-item\"><div class=\"sk-label-container\"><div class=\"sk-label sk-toggleable\"><input class=\"sk-toggleable__control sk-hidden--visually\" id=\"sk-estimator-id-2\" type=\"checkbox\" ><label for=\"sk-estimator-id-2\" class=\"sk-toggleable__label sk-toggleable__label-arrow\">estimator: Pipeline</label><div class=\"sk-toggleable__content\"><pre>Pipeline(steps=[(&#x27;simpleimputer&#x27;, SimpleImputer()),\n",
              "                (&#x27;randomforestclassifier&#x27;,\n",
              "                 RandomForestClassifier(random_state=42))])</pre></div></div></div><div class=\"sk-serial\"><div class=\"sk-item\"><div class=\"sk-serial\"><div class=\"sk-item\"><div class=\"sk-estimator sk-toggleable\"><input class=\"sk-toggleable__control sk-hidden--visually\" id=\"sk-estimator-id-3\" type=\"checkbox\" ><label for=\"sk-estimator-id-3\" class=\"sk-toggleable__label sk-toggleable__label-arrow\">SimpleImputer</label><div class=\"sk-toggleable__content\"><pre>SimpleImputer()</pre></div></div></div><div class=\"sk-item\"><div class=\"sk-estimator sk-toggleable\"><input class=\"sk-toggleable__control sk-hidden--visually\" id=\"sk-estimator-id-4\" type=\"checkbox\" ><label for=\"sk-estimator-id-4\" class=\"sk-toggleable__label sk-toggleable__label-arrow\">RandomForestClassifier</label><div class=\"sk-toggleable__content\"><pre>RandomForestClassifier(random_state=42)</pre></div></div></div></div></div></div></div></div></div></div></div></div>"
            ]
          },
          "metadata": {},
          "execution_count": 2
        }
      ],
      "source": [
        "from flask import Flask, request, jsonify\n",
        "from sklearn.pipeline import make_pipeline\n",
        "from sklearn.ensemble import RandomForestClassifier\n",
        "from sklearn.impute import SimpleImputer\n",
        "from sklearn.model_selection import RandomizedSearchCV, train_test_split\n",
        "from sklearn.preprocessing import OrdinalEncoder, StandardScaler\n",
        "import pandas as pd\n",
        "import numpy as np\n",
        "import joblib\n",
        "\n",
        "df = pd.read_csv('/content/drive/MyDrive/df_cleaning_2021.csv')\n",
        "\n",
        "X = ['AAE', 'EHW', 'Industry']\n",
        "y = 'Injuries'\n",
        "\n",
        "train, test = train_test_split(df, test_size=0.2, stratify=df[y], random_state=42)\n",
        "train, val = train_test_split(train, test_size=0.2, stratify=train[y], random_state=42)\n",
        "\n",
        "X_train, y_train = train[X], train[y]\n",
        "X_val, y_val = val[X], val[y]\n",
        "X_test, y_test = test[X], test[y]\n",
        "\n",
        "cat_cols = ['Industry']\n",
        "ordinal_encoder = OrdinalEncoder()\n",
        "X_train[cat_cols] = ordinal_encoder.fit_transform(X_train[cat_cols])\n",
        "X_val[cat_cols] = ordinal_encoder.transform(X_val[cat_cols])\n",
        "X_test[cat_cols] = ordinal_encoder.transform(X_test[cat_cols])\n",
        "\n",
        "num_cols = ['AAE', 'EHW']\n",
        "scaler = StandardScaler()\n",
        "X_train[num_cols] = scaler.fit_transform(X_train[num_cols])\n",
        "X_val[num_cols] = scaler.transform(X_val[num_cols])\n",
        "X_test[num_cols] = scaler.transform(X_test[num_cols])\n",
        "\n",
        "pp2 = make_pipeline(\n",
        "    SimpleImputer(),\n",
        "    RandomForestClassifier(random_state = 42)\n",
        ")\n",
        "\n",
        "ps2 = {\n",
        "    \"simpleimputer__strategy\": [\"median\", \"mean\"],\n",
        "    \"randomforestclassifier__max_depth\": [1, 2, 3, 4, 5, 6, 7, 8, 9, 10],\n",
        "    \"randomforestclassifier__n_estimators\" : [10, 20, 30, 40, 50, 60, 70, 80, 90, 100, 110, 120, 130, 140, 150, 160, 170, 180, 190, 200],\n",
        "    \"randomforestclassifier__max_samples\" : [0.2, 0.4, 0.6, 0.8, 1.0],\n",
        "    \"randomforestclassifier__max_features\" : [0.2, 0.4, 0.6, 0.8, 1.0]\n",
        "}\n",
        "\n",
        "clf1 = RandomizedSearchCV(\n",
        "    pp2,\n",
        "    param_distributions = ps2,\n",
        "    n_iter = 10,\n",
        "    cv = 5,\n",
        "    n_jobs = -1,\n",
        "    random_state = 42\n",
        ")\n",
        "\n",
        "clf1.fit(X_train, y_train)"
      ]
    },
    {
      "cell_type": "code",
      "source": [
        "val_score = clf1.best_estimator_.score(X_val, y_val)\n",
        "print(\"Validation score: {:.2f}%\".format(val_score*100))\n",
        "\n",
        "test_score = clf1.best_estimator_.score(X_test, y_test)\n",
        "print(\"Test score: {:.2f}%\".format(test_score*100))"
      ],
      "metadata": {
        "colab": {
          "base_uri": "https://localhost:8080/"
        },
        "id": "GKR1QOtfNxAv",
        "outputId": "e3809647-7a41-4485-edd9-2de7d5cf6ff8"
      },
      "execution_count": 3,
      "outputs": [
        {
          "output_type": "stream",
          "name": "stdout",
          "text": [
            "Validation score: 75.62%\n",
            "Test score: 75.14%\n"
          ]
        }
      ]
    },
    {
      "cell_type": "code",
      "source": [
        "joblib.dump(clf1.best_estimator_, 'model.pkl')"
      ],
      "metadata": {
        "colab": {
          "base_uri": "https://localhost:8080/"
        },
        "id": "02YtnzM0IrFa",
        "outputId": "963ab0a9-3b04-40fb-969e-a782a64c170d"
      },
      "execution_count": 4,
      "outputs": [
        {
          "output_type": "execute_result",
          "data": {
            "text/plain": [
              "['model.pkl']"
            ]
          },
          "metadata": {},
          "execution_count": 4
        }
      ]
    }
  ]
}