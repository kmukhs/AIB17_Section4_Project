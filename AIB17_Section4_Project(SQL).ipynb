{
  "nbformat": 4,
  "nbformat_minor": 0,
  "metadata": {
    "colab": {
      "provenance": []
    },
    "kernelspec": {
      "name": "python3",
      "display_name": "Python 3"
    },
    "language_info": {
      "name": "python"
    }
  },
  "cells": [
    {
      "cell_type": "code",
      "source": [
        "from google.colab import drive\n",
        "drive.mount('/content/drive')"
      ],
      "metadata": {
        "colab": {
          "base_uri": "https://localhost:8080/"
        },
        "id": "EvyPg5upXES5",
        "outputId": "da48dd50-5493-4129-9fda-087ac96ee530"
      },
      "execution_count": null,
      "outputs": [
        {
          "output_type": "stream",
          "name": "stdout",
          "text": [
            "Mounted at /content/drive\n"
          ]
        }
      ]
    },
    {
      "cell_type": "code",
      "execution_count": null,
      "metadata": {
        "id": "d9nBFtrzFIAI"
      },
      "outputs": [],
      "source": [
        "import psycopg2\n",
        "import csv\n",
        "\n",
        "host = 'floppy.db.elephantsql.com'\n",
        "user = 'lrprnurl'\n",
        "password = 'OQoSwalPemfzbWcyjX0lgwHlUY8gDfwW'\n",
        "database = 'lrprnurl'\n",
        "\n",
        "connection = psycopg2.connect(\n",
        "     host=host,\n",
        "     user=user,\n",
        "     password=password,\n",
        "     database=database)\n",
        "\n",
        "cur = connection.cursor()\n",
        "\n",
        "cur.execute(\"DROP TABLE IF EXISTS Project4;\") \n",
        "\n",
        "cur.execute(\"\"\"\n",
        "CREATE TABLE Project4(\n",
        "    Id SERIAL PRIMARY KEY,\n",
        "    도시 VARCHAR(200),\n",
        "    주 VARCHAR(1200),\n",
        "    연평균직원수 FLOAT,\n",
        "    연간총근로시간 FLOAT,\n",
        "    산재발생여부 INTEGER,\n",
        "    산업군 VARCHAR(50),\n",
        "    직원평균근로시간 FLOAT,\n",
        "    근로시간구간 VARCHAR(1200),\n",
        "    직원규모\tVARCHAR(1200),\n",
        "    회사규모 VARCHAR(120)\n",
        ")\n",
        "\"\"\")\n",
        "\n",
        "with open('/content/drive/MyDrive/df_cleaning_2021.csv', 'r') as f:\n",
        "  reader = csv.reader(f)\n",
        "  next(reader)\n",
        "  for row in reader:\n",
        "    try:\n",
        "        cur.execute(f\"\"\"\n",
        "            INSERT INTO Project4 (\n",
        "                도시, 주, 연평균직원수, 연간총근로시간,\n",
        "                산재발생여부, 산업군, 직원평균근로시간,\n",
        "                근로시간구간, 직원규모, 회사규모) \n",
        "            VALUES (%s, %s, %s, %s, %s, %s, %s, %s, %s, %s)\n",
        "            \"\"\", row)\n",
        "    except IndexError:\n",
        "            print(f\"Skipping row {row}\")\n",
        "            continue\n",
        "\n",
        "connection.commit()\n",
        "cur.close()\n",
        "connection.close()"
      ]
    }
  ]
}